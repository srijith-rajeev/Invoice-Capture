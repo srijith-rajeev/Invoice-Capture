{
  "nbformat": 4,
  "nbformat_minor": 0,
  "metadata": {
    "colab": {
      "name": "Invoice Capture.ipynb",
      "version": "0.3.2",
      "provenance": [],
      "collapsed_sections": []
    },
    "kernelspec": {
      "name": "python3",
      "display_name": "Python 3"
    }
  },
  "cells": [
    {
      "cell_type": "code",
      "metadata": {
        "id": "2gbYHJvSDgYy",
        "colab_type": "code",
        "outputId": "7fcdf651-eb81-4d03-bab5-ef6f90d168a8",
        "colab": {
          "base_uri": "https://localhost:8080/",
          "height": 326
        }
      },
      "source": [
        "!pip install pymupdf\n",
        "!pip install tabula-py"
      ],
      "execution_count": 1,
      "outputs": [
        {
          "output_type": "stream",
          "text": [
            "Collecting pymupdf\n",
            "\u001b[?25l  Downloading https://files.pythonhosted.org/packages/cd/bb/35a7f08edd634324d53fea0347ab08997c35860d036849c30e2e0b155e12/PyMuPDF-1.16.2-cp36-cp36m-manylinux1_x86_64.whl (5.6MB)\n",
            "\u001b[K     |████████████████████████████████| 5.6MB 1.5MB/s \n",
            "\u001b[?25hInstalling collected packages: pymupdf\n",
            "Successfully installed pymupdf-1.16.2\n",
            "Collecting tabula-py\n",
            "\u001b[?25l  Downloading https://files.pythonhosted.org/packages/78/e0/895cbb704f00d962a6714076b605463f3a03a42e70337f4b67be66972df6/tabula_py-1.4.1-py3-none-any.whl (10.4MB)\n",
            "\u001b[K     |████████████████████████████████| 10.4MB 9.7MB/s \n",
            "\u001b[?25hRequirement already satisfied: numpy in /usr/local/lib/python3.6/dist-packages (from tabula-py) (1.16.5)\n",
            "Requirement already satisfied: pandas in /usr/local/lib/python3.6/dist-packages (from tabula-py) (0.24.2)\n",
            "Collecting distro (from tabula-py)\n",
            "  Downloading https://files.pythonhosted.org/packages/ea/35/82f79b92fa4d937146c660a6482cee4f3dfa1f97ff3d2a6f3ecba33e712e/distro-1.4.0-py2.py3-none-any.whl\n",
            "Requirement already satisfied: python-dateutil>=2.5.0 in /usr/local/lib/python3.6/dist-packages (from pandas->tabula-py) (2.5.3)\n",
            "Requirement already satisfied: pytz>=2011k in /usr/local/lib/python3.6/dist-packages (from pandas->tabula-py) (2018.9)\n",
            "Requirement already satisfied: six>=1.5 in /usr/local/lib/python3.6/dist-packages (from python-dateutil>=2.5.0->pandas->tabula-py) (1.12.0)\n",
            "Installing collected packages: distro, tabula-py\n",
            "Successfully installed distro-1.4.0 tabula-py-1.4.1\n"
          ],
          "name": "stdout"
        }
      ]
    },
    {
      "cell_type": "code",
      "metadata": {
        "id": "PSCI7MSoqzZV",
        "colab_type": "code",
        "colab": {}
      },
      "source": [
        "import fitz\n",
        "import tabula\n",
        "import json\n",
        "from itertools import groupby\n",
        "invoices = ['1567166185337-F215839_WITH MARKS.PDF']"
      ],
      "execution_count": 0,
      "outputs": []
    },
    {
      "cell_type": "code",
      "metadata": {
        "id": "rS4ylQPRbPi4",
        "colab_type": "code",
        "colab": {}
      },
      "source": [
        "def get_invoice_header():\n",
        "  keys = ['Kund nr. / Costomer no','Datum /Date', 'Faktura nr. / Invoice no','Vår referens / Our reference', 'Vårt order nr. / Our order no', 'Ert order nr. / Your order no', 'Er referens / Your reference', 'Förfallodatum / Due date','Transportsätt / Mode of transport', 'Ert VAT nr. / Your VAT no.', 'Vikt/Weight', 'Leveransvillkor / Terms of delivery', 'Leverans datum / Date of delivery', 'Betalningsvillkor / Terms of payment', 'Godsmärkning / Goods marking']\n",
        "  values = []\n",
        "  regions = []\n",
        "  for key in keys:\n",
        "    areas = inv.searchFor(key)\n",
        "    #print (areas[0])\n",
        "    region = [areas[0][0],areas[0][3]+2,areas[0][2]+10,areas[0][3]+20]\n",
        "    regions.append(region)\n",
        "    values.append([w[4:8] for w in words if fitz.Rect(w[:4]) .intersects(fitz.Rect(region))])\n",
        "\n",
        "  #print(values)\n",
        "  add_keys = ['Godsmottagare / Consignee', 'Köpare / Buyer']\n",
        "  for i,key in enumerate(add_keys):\n",
        "    keys.append(key)\n",
        "    areas = inv.searchFor(key)\n",
        "    region = [areas[0][0],areas[0][3]+2,areas[0][2]+80,areas[0][3]+70]\n",
        "    regions.append(region)\n",
        "    values.append([w[4:8] for w in words if fitz.Rect(w[:4]) .intersects(fitz.Rect(region))])\n",
        "\n",
        "  #print(keys)\n",
        "  #print(values[-1]) \n",
        "\n",
        "  # word and line processing\n",
        "  data=[]\n",
        "  for i in range(len(values)):\n",
        "    lines=[]\n",
        "    for key, group in groupby(values[i], lambda x: x[2]):\n",
        "      line = \" \".join([word[0] for word in group])\n",
        "      lines.append(line)\n",
        "    data.append(lines)\n",
        "\n",
        "  #print(data)\n",
        "\n",
        "  invoice_header = dict(zip(keys, data))\n",
        "  #invoice_header = {'invoice_header' : invoice_header}\n",
        "  #print (invoice_header)\n",
        "  return invoice_header\n",
        "\n",
        "def get_invoice_items_tabula():\n",
        "  # tables are auto detected or required area may be specified by area parameter.\n",
        "  df = tabula.read_pdf(invoice_file, pages='all')\n",
        "  items = df.to_dict('records')\n",
        "  #items = {'Items': items}\n",
        "  return items"
      ],
      "execution_count": 0,
      "outputs": []
    },
    {
      "cell_type": "code",
      "metadata": {
        "id": "lfe9aVaiMjEh",
        "colab_type": "code",
        "outputId": "2b7f9759-9974-4bf3-b706-6b8253362258",
        "colab": {
          "base_uri": "https://localhost:8080/",
          "height": 54
        }
      },
      "source": [
        "for count,invoice_file in enumerate(invoices):\n",
        "  invoice = fitz.open(invoice_file)\n",
        "  \n",
        "  #print ('Number of pages:',invoice.pageCount)\n",
        "  # assumed single page\n",
        "  #print(invoice.metadata)\n",
        "  \n",
        "  inv = invoice.loadPage(0)\n",
        "  \n",
        "  #text = inv.getText(\"json\")\n",
        "    \n",
        "  words = inv.getTextWords()\n",
        "  '''\n",
        "  words obtained as a list [x0, y0, x1, y1, word, bno, lno, wno]\n",
        "  The first 4 entries are the word's rectangle coordinates, the last 3 are\n",
        "  technical info (block number, line number, word number)\n",
        "  '''\n",
        "  # get the invoice header\n",
        "  invoice_header = get_invoice_header()\n",
        "  # get the items - \n",
        "  invoice_items = get_invoice_items_tabula()\n",
        "  \n",
        "  \n",
        "  invoice_dict = {'invoice_header' : invoice_header,'Items': invoice_items }\n",
        "  print (invoice_dict)\n",
        "  \n",
        "  \n",
        "  with open('invoice{}.json'.format(count), 'w') as json_file:\n",
        "    json.dump(invoice_dict, json_file)\n",
        "  \n",
        "  \n",
        "  "
      ],
      "execution_count": 4,
      "outputs": [
        {
          "output_type": "stream",
          "text": [
            "{'invoice_header': {'Kund nr. / Costomer no': ['1003'], 'Datum /Date': ['19-08-30'], 'Faktura nr. / Invoice no': ['F215839'], 'Vår referens / Our reference': ['Huvudkontor'], 'Vårt order nr. / Our order no': ['K220199'], 'Ert order nr. / Your order no': ['32156884-002'], 'Er referens / Your reference': ['THORD ELD'], 'Förfallodatum / Due date': ['19-10-29'], 'Transportsätt / Mode of transport': ['DSV Inrikes Styckegods'], 'Ert VAT nr. / Your VAT no.': [], 'Vikt/Weight': ['1332kg'], 'Leveransvillkor / Terms of delivery': ['Fraktfritt'], 'Leverans datum / Date of delivery': ['19-08-30'], 'Betalningsvillkor / Terms of payment': ['60 dagar netto'], 'Godsmärkning / Goods marking': ['32156884'], 'Godsmottagare / Consignee': ['AHLSELL AB', 'TERMINALGATAN 3', 'LOSSNING KL.07.00', '694 81 HALLSBERG'], 'Köpare / Buyer': ['AHLSELL AB', '694 81 HALLSBERG']}, 'Items': [{'Art-nr / E-nr': '176Z2', 'Benämning': 'Väggkonsol', 'Antal': 240.0, 'Enhet': 'Styck', 'A-pris': '206,00', '%': '40,00', 'Belopp': '29 664,00'}, {'Art-nr / E-nr': '1115188', 'Benämning': '600 mm', 'Antal': nan, 'Enhet': nan, 'A-pris': nan, '%': nan, 'Belopp': nan}, {'Art-nr / E-nr': '966Z', 'Benämning': 'Takpendel MP-V', 'Antal': 280.0, 'Enhet': 'Styck', 'A-pris': '174,00', '%': '40,00', 'Belopp': '29 232,00'}, {'Art-nr / E-nr': '1115728', 'Benämning': '500 mm', 'Antal': nan, 'Enhet': nan, 'A-pris': nan, '%': nan, 'Belopp': nan}, {'Art-nr / E-nr': '072Z', 'Benämning': 'Takpendel 41x41 mm', 'Antal': 20.0, 'Enhet': 'Styck', 'A-pris': '384,00', '%': '40,00', 'Belopp': '4 608,00'}, {'Art-nr / E-nr': '1115792', 'Benämning': '1000 mm', 'Antal': nan, 'Enhet': nan, 'A-pris': nan, '%': nan, 'Belopp': nan}, {'Art-nr / E-nr': '230S', 'Benämning': 'Takfäste ankarskena', 'Antal': 180.0, 'Enhet': 'Styck', 'A-pris': '51,50', '%': '40,00', 'Belopp': '5 562,00'}, {'Art-nr / E-nr': '1115797', 'Benämning': nan, 'Antal': nan, 'Enhet': nan, 'A-pris': nan, '%': nan, 'Belopp': nan}, {'Art-nr / E-nr': '731Z4', 'Benämning': 'Universalbricka', 'Antal': 3500.0, 'Enhet': 'Styck', 'A-pris': '6,60', '%': '32,00', 'Belopp': '15 708,00'}, {'Art-nr / E-nr': '1116534', 'Benämning': 'Z4', 'Antal': nan, 'Enhet': nan, 'A-pris': nan, '%': nan, 'Belopp': nan}, {'Art-nr / E-nr': '980S', 'Benämning': 'Universalfäste', 'Antal': 100.0, 'Enhet': 'Styck', 'A-pris': '41,25', '%': '54,00', 'Belopp': '1 897,50'}, {'Art-nr / E-nr': '1509452', 'Benämning': '40-60 mm', 'Antal': nan, 'Enhet': nan, 'A-pris': nan, '%': nan, 'Belopp': nan}, {'Art-nr / E-nr': 'K32RU+GW', 'Benämning': 'Kabelhållare enkel', 'Antal': 100.0, 'Enhet': 'Styck', 'A-pris': '32,75', '%': '42,00', 'Belopp': '1 899,50'}, {'Art-nr / E-nr': '1524806', 'Benämning': '26-32 mm', 'Antal': nan, 'Enhet': nan, 'A-pris': nan, '%': nan, 'Belopp': nan}, {'Art-nr / E-nr': 'E001', 'Benämning': 'EUR-Pall', 'Antal': 8.0, 'Enhet': 'Styck', 'A-pris': '75,00', '%': '0,00', 'Belopp': '600,00'}, {'Art-nr / E-nr': 'E002', 'Benämning': 'Krage Helpall', 'Antal': 14.0, 'Enhet': 'Styck', 'A-pris': '90,00', '%': '0,00', 'Belopp': '1 260,00'}]}\n"
          ],
          "name": "stdout"
        }
      ]
    },
    {
      "cell_type": "code",
      "metadata": {
        "id": "W_Kx9gJlcrqv",
        "colab_type": "code",
        "colab": {}
      },
      "source": [
        ""
      ],
      "execution_count": 0,
      "outputs": []
    }
  ]
}
